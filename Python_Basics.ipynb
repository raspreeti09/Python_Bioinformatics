{
 "cells": [
  {
   "cell_type": "code",
   "execution_count": null,
   "id": "cb808419-f8d1-4e1d-9ced-7fb4fe41db81",
   "metadata": {},
   "outputs": [],
   "source": [
    "###CREATING STRING/ PRINTING IT "
   ]
  },
  {
   "cell_type": "code",
   "execution_count": 2,
   "id": "a309ba43-814d-4dd6-8b60-a53714078363",
   "metadata": {},
   "outputs": [
    {
     "name": "stdout",
     "output_type": "stream",
     "text": [
      "Bioinformatics\n"
     ]
    }
   ],
   "source": [
    "mystring='Bioinformatics'\n",
    "print(mystring)"
   ]
  },
  {
   "cell_type": "code",
   "execution_count": 3,
   "id": "81bb6b15-934a-4e02-b438-b1115f40699a",
   "metadata": {},
   "outputs": [
    {
     "name": "stdout",
     "output_type": "stream",
     "text": [
      "Bioinformatics\n"
     ]
    }
   ],
   "source": [
    "print('Bioinformatics')"
   ]
  },
  {
   "cell_type": "code",
   "execution_count": 4,
   "id": "091c7000-2b53-4f10-b3c7-3814fc882037",
   "metadata": {},
   "outputs": [
    {
     "name": "stdout",
     "output_type": "stream",
     "text": [
      "ATGCAGTA\n"
     ]
    }
   ],
   "source": [
    "mydna='ATGCAGTA'\n",
    "print(mydna)"
   ]
  },
  {
   "cell_type": "code",
   "execution_count": null,
   "id": "54c6cee3-5255-4f31-970f-e7064011da85",
   "metadata": {},
   "outputs": [],
   "source": []
  },
  {
   "cell_type": "code",
   "execution_count": null,
   "id": "5c26ff73-5835-4e92-a29e-4bcbb404ead8",
   "metadata": {},
   "outputs": [],
   "source": [
    "###CONVERTING STRING TO LOWER/UPPER CASE"
   ]
  },
  {
   "cell_type": "code",
   "execution_count": 5,
   "id": "0d39424d-b421-47ef-9cea-19d9b80b7369",
   "metadata": {},
   "outputs": [
    {
     "data": {
      "text/plain": [
       "'hello'"
      ]
     },
     "execution_count": 5,
     "metadata": {},
     "output_type": "execute_result"
    }
   ],
   "source": [
    "mystring='HELLO'\n",
    "mystring.lower()"
   ]
  },
  {
   "cell_type": "code",
   "execution_count": 6,
   "id": "d9eb0f69-6569-477c-870d-996cc98932de",
   "metadata": {},
   "outputs": [
    {
     "data": {
      "text/plain": [
       "'atgcta'"
      ]
     },
     "execution_count": 6,
     "metadata": {},
     "output_type": "execute_result"
    }
   ],
   "source": [
    "'ATGCTA'.lower()"
   ]
  },
  {
   "cell_type": "code",
   "execution_count": 8,
   "id": "3a17ac59-ffeb-40f0-8166-d06bcb7b9322",
   "metadata": {},
   "outputs": [
    {
     "data": {
      "text/plain": [
       "'ATGCTA'"
      ]
     },
     "execution_count": 8,
     "metadata": {},
     "output_type": "execute_result"
    }
   ],
   "source": [
    "DNA='atgcta'\n",
    "DNA.upper()"
   ]
  },
  {
   "cell_type": "code",
   "execution_count": 9,
   "id": "49b93e83-5495-4cb7-98da-e1c7a14aacee",
   "metadata": {},
   "outputs": [
    {
     "data": {
      "text/plain": [
       "'ATGCTA'"
      ]
     },
     "execution_count": 9,
     "metadata": {},
     "output_type": "execute_result"
    }
   ],
   "source": [
    "'atgcta'.upper()"
   ]
  },
  {
   "cell_type": "code",
   "execution_count": null,
   "id": "f5fe8868-a097-472a-bd0d-d1f3124d0aea",
   "metadata": {},
   "outputs": [],
   "source": [
    "##Capitalizing the first letter "
   ]
  },
  {
   "cell_type": "code",
   "execution_count": 11,
   "id": "5dd5a4e9-4b9f-48b7-af83-7a54c956c7ef",
   "metadata": {},
   "outputs": [
    {
     "data": {
      "text/plain": [
       "'Bioinformatics'"
      ]
     },
     "execution_count": 11,
     "metadata": {},
     "output_type": "execute_result"
    }
   ],
   "source": [
    "mystring='bioinformatics'\n",
    "mystring.capitalize()"
   ]
  },
  {
   "cell_type": "code",
   "execution_count": null,
   "id": "45ab1057-dd02-4ba2-b7b5-62e8b08bb77e",
   "metadata": {},
   "outputs": [],
   "source": []
  },
  {
   "cell_type": "code",
   "execution_count": null,
   "id": "8b3f80d1-d272-4530-878f-92f2f150ccea",
   "metadata": {},
   "outputs": [],
   "source": [
    "###FIND THE LENGTH OF STRINGS/SEQUENCES"
   ]
  },
  {
   "cell_type": "code",
   "execution_count": 13,
   "id": "2e64b276-d009-432c-b5d1-a37749c06b83",
   "metadata": {},
   "outputs": [
    {
     "data": {
      "text/plain": [
       "11"
      ]
     },
     "execution_count": 13,
     "metadata": {},
     "output_type": "execute_result"
    }
   ],
   "source": [
    "mystring='Hello World'\n",
    "len(mystring)"
   ]
  },
  {
   "cell_type": "code",
   "execution_count": 16,
   "id": "77caef98-c521-498c-bebf-939a1b398d09",
   "metadata": {},
   "outputs": [],
   "source": [
    "DNA='AGTACTA'"
   ]
  },
  {
   "cell_type": "code",
   "execution_count": 17,
   "id": "44b996e4-5ad2-4299-999f-eedcff39dee8",
   "metadata": {},
   "outputs": [
    {
     "data": {
      "text/plain": [
       "7"
      ]
     },
     "execution_count": 17,
     "metadata": {},
     "output_type": "execute_result"
    }
   ],
   "source": [
    "len(DNA)"
   ]
  },
  {
   "cell_type": "code",
   "execution_count": 18,
   "id": "dd3da904-7026-4b4b-a4d3-119aab92ba81",
   "metadata": {},
   "outputs": [
    {
     "name": "stdout",
     "output_type": "stream",
     "text": [
      "7\n"
     ]
    }
   ],
   "source": [
    "length_of_seq=len(DNA)\n",
    "print(length_of_seq)"
   ]
  },
  {
   "cell_type": "code",
   "execution_count": null,
   "id": "fc2d7164-c24b-4c21-8844-5dd660027708",
   "metadata": {},
   "outputs": [],
   "source": []
  },
  {
   "cell_type": "code",
   "execution_count": null,
   "id": "ef3b8c06-4d78-498e-8d6a-940e4cf5c42d",
   "metadata": {},
   "outputs": [],
   "source": [
    "###CHECK FOR PRESENCE OR ABSENCE OF CHARACTERS/STRING"
   ]
  },
  {
   "cell_type": "code",
   "execution_count": 23,
   "id": "57234ddc-25b1-4eb5-9892-bf4534bc25bd",
   "metadata": {},
   "outputs": [],
   "source": [
    "mystring='I love programming'"
   ]
  },
  {
   "cell_type": "code",
   "execution_count": 24,
   "id": "7ff3641a-1ab4-47fd-97ca-b9ef2f3f7764",
   "metadata": {},
   "outputs": [
    {
     "data": {
      "text/plain": [
       "True"
      ]
     },
     "execution_count": 24,
     "metadata": {},
     "output_type": "execute_result"
    }
   ],
   "source": [
    "'p' in mystring"
   ]
  },
  {
   "cell_type": "code",
   "execution_count": 25,
   "id": "5bfa328a-3cab-4224-ba3a-ded9d9f887ea",
   "metadata": {},
   "outputs": [
    {
     "data": {
      "text/plain": [
       "False"
      ]
     },
     "execution_count": 25,
     "metadata": {},
     "output_type": "execute_result"
    }
   ],
   "source": [
    "'z' in mystring"
   ]
  },
  {
   "cell_type": "code",
   "execution_count": 26,
   "id": "80c8acce-c812-4bab-a5ef-1b392f267e05",
   "metadata": {},
   "outputs": [
    {
     "data": {
      "text/plain": [
       "True"
      ]
     },
     "execution_count": 26,
     "metadata": {},
     "output_type": "execute_result"
    }
   ],
   "source": [
    "'ing' in mystring"
   ]
  },
  {
   "cell_type": "code",
   "execution_count": 28,
   "id": "1e877091-ca6e-4ef1-91e4-bc43463df76d",
   "metadata": {},
   "outputs": [
    {
     "data": {
      "text/plain": [
       "7"
      ]
     },
     "execution_count": 28,
     "metadata": {},
     "output_type": "execute_result"
    }
   ],
   "source": [
    "mystring.find('p')    ##it's at position 8 and with indexing it's at 7th position"
   ]
  },
  {
   "cell_type": "code",
   "execution_count": 29,
   "id": "ac3a2518-4beb-458e-91e3-7f1e701f1fd1",
   "metadata": {},
   "outputs": [
    {
     "data": {
      "text/plain": [
       "2"
      ]
     },
     "execution_count": 29,
     "metadata": {},
     "output_type": "execute_result"
    }
   ],
   "source": [
    "mystring.find('love')"
   ]
  },
  {
   "cell_type": "code",
   "execution_count": null,
   "id": "6b5f549b-bc3b-4b4c-a2d2-d7e2016cd3d7",
   "metadata": {},
   "outputs": [],
   "source": [
    "###COUNTING THE NUMBER OF CHARACTERS/SUB-STRINGS IN A STRING/SEQUENCE"
   ]
  },
  {
   "cell_type": "code",
   "execution_count": 31,
   "id": "3c76afb8-00b0-4097-a2c2-34d2ad8f68a0",
   "metadata": {},
   "outputs": [],
   "source": [
    "mystring='Bioinformatics'"
   ]
  },
  {
   "cell_type": "code",
   "execution_count": 32,
   "id": "d235eb7b-4a00-4a13-919e-d19a180b6ab9",
   "metadata": {},
   "outputs": [
    {
     "data": {
      "text/plain": [
       "2"
      ]
     },
     "execution_count": 32,
     "metadata": {},
     "output_type": "execute_result"
    }
   ],
   "source": [
    "mystring.count('o')"
   ]
  },
  {
   "cell_type": "code",
   "execution_count": 33,
   "id": "6e60caf1-1ba5-4758-bdd2-a2e1c6144006",
   "metadata": {},
   "outputs": [
    {
     "data": {
      "text/plain": [
       "0"
      ]
     },
     "execution_count": 33,
     "metadata": {},
     "output_type": "execute_result"
    }
   ],
   "source": [
    "mystring.count('O')"
   ]
  },
  {
   "cell_type": "code",
   "execution_count": 34,
   "id": "fe59f66e-6798-4c29-a582-61883390039a",
   "metadata": {},
   "outputs": [
    {
     "data": {
      "text/plain": [
       "3"
      ]
     },
     "execution_count": 34,
     "metadata": {},
     "output_type": "execute_result"
    }
   ],
   "source": [
    "'Bioinformatics'.count('i')"
   ]
  },
  {
   "cell_type": "code",
   "execution_count": null,
   "id": "f0114c50-ce46-4e56-ac9e-b206c1781643",
   "metadata": {},
   "outputs": [],
   "source": [
    "## HELP FIND THE GC-CONTENT OF A SEQUENCE"
   ]
  },
  {
   "cell_type": "code",
   "execution_count": 36,
   "id": "1a2dd371-9a41-4e62-94bc-3ec6dedbe245",
   "metadata": {},
   "outputs": [
    {
     "data": {
      "text/plain": [
       "5"
      ]
     },
     "execution_count": 36,
     "metadata": {},
     "output_type": "execute_result"
    }
   ],
   "source": [
    "DNA='AGTCATAGAAGG'\n",
    "DNA.count('A')"
   ]
  },
  {
   "cell_type": "code",
   "execution_count": 37,
   "id": "672782fb-872e-4882-867d-2f8d2a7e69f4",
   "metadata": {},
   "outputs": [
    {
     "data": {
      "text/plain": [
       "2"
      ]
     },
     "execution_count": 37,
     "metadata": {},
     "output_type": "execute_result"
    }
   ],
   "source": [
    "DNA.count('T')"
   ]
  },
  {
   "cell_type": "code",
   "execution_count": 38,
   "id": "a38864fb-f0e0-468d-bd1d-4faef7fc4d45",
   "metadata": {},
   "outputs": [
    {
     "data": {
      "text/plain": [
       "4"
      ]
     },
     "execution_count": 38,
     "metadata": {},
     "output_type": "execute_result"
    }
   ],
   "source": [
    "DNA.count('G')"
   ]
  },
  {
   "cell_type": "code",
   "execution_count": 39,
   "id": "b3e98eb4-781f-420d-b4c1-4f67bbc926af",
   "metadata": {},
   "outputs": [
    {
     "data": {
      "text/plain": [
       "1"
      ]
     },
     "execution_count": 39,
     "metadata": {},
     "output_type": "execute_result"
    }
   ],
   "source": [
    "DNA.count('C')"
   ]
  },
  {
   "cell_type": "code",
   "execution_count": 40,
   "id": "c1d5d46b-f8ba-4643-8835-44533268caf8",
   "metadata": {},
   "outputs": [
    {
     "name": "stdout",
     "output_type": "stream",
     "text": [
      "5\n"
     ]
    }
   ],
   "source": [
    "gc=DNA.count('G')+DNA.count('C')\n",
    "print(gc)"
   ]
  },
  {
   "cell_type": "code",
   "execution_count": null,
   "id": "e4182772-983c-4444-bc27-f2a8565ff087",
   "metadata": {},
   "outputs": [],
   "source": [
    "## Percentage of GC-content finding:"
   ]
  },
  {
   "cell_type": "code",
   "execution_count": null,
   "id": "2728de49-b6cc-4c9e-ab7c-7b8a60a83bf5",
   "metadata": {},
   "outputs": [],
   "source": [
    "#Approach 1"
   ]
  },
  {
   "cell_type": "code",
   "execution_count": 41,
   "id": "1f48b9d2-4c7c-4ddd-9daa-1d6128b5f96c",
   "metadata": {},
   "outputs": [
    {
     "data": {
      "text/plain": [
       "41.66666666666667"
      ]
     },
     "execution_count": 41,
     "metadata": {},
     "output_type": "execute_result"
    }
   ],
   "source": [
    "length=len(DNA)\n",
    "gc/length*100"
   ]
  },
  {
   "cell_type": "code",
   "execution_count": 42,
   "id": "8888d2e4-902d-4ceb-b754-a3deb9b2eacd",
   "metadata": {},
   "outputs": [
    {
     "data": {
      "text/plain": [
       "41.66666666666667"
      ]
     },
     "execution_count": 42,
     "metadata": {},
     "output_type": "execute_result"
    }
   ],
   "source": [
    "(gc/length)*100"
   ]
  },
  {
   "cell_type": "code",
   "execution_count": null,
   "id": "93cc2f41-d187-42e1-a02c-3cb6c2b233d6",
   "metadata": {},
   "outputs": [],
   "source": [
    "#Approach 2"
   ]
  },
  {
   "cell_type": "code",
   "execution_count": 44,
   "id": "78b5d0f1-d64e-46b2-bac2-9b1217ee595b",
   "metadata": {},
   "outputs": [
    {
     "name": "stdout",
     "output_type": "stream",
     "text": [
      "41.66666666666667\n"
     ]
    }
   ],
   "source": [
    "percentage_gc=(gc/length)*100\n",
    "print(percentage_gc)"
   ]
  },
  {
   "cell_type": "code",
   "execution_count": 48,
   "id": "f18a330e-4ce3-44dc-9bc2-b8149468dc5a",
   "metadata": {},
   "outputs": [
    {
     "name": "stdout",
     "output_type": "stream",
     "text": [
      "Percentage of GC-content is 41.66666666666667\n"
     ]
    }
   ],
   "source": [
    "print('Percentage of GC-content is', percentage_gc)"
   ]
  },
  {
   "cell_type": "code",
   "execution_count": null,
   "id": "1b82a729-d78b-4a42-9976-1a852cc4aab8",
   "metadata": {},
   "outputs": [],
   "source": []
  },
  {
   "cell_type": "code",
   "execution_count": null,
   "id": "b738b424-b6cb-4bb1-95ce-32798f8be33b",
   "metadata": {},
   "outputs": [],
   "source": [
    "###REPLACE CHARACTERS/SUB-STRINGS"
   ]
  },
  {
   "cell_type": "code",
   "execution_count": 49,
   "id": "e55b3be8-34fa-4be0-9c08-e583ad099140",
   "metadata": {},
   "outputs": [
    {
     "data": {
      "text/plain": [
       "'programing'"
      ]
     },
     "execution_count": 49,
     "metadata": {},
     "output_type": "execute_result"
    }
   ],
   "source": [
    "mystring='programinG'\n",
    "mystring.replace('G','g')"
   ]
  },
  {
   "cell_type": "code",
   "execution_count": 50,
   "id": "4b445049-ba7b-487b-b423-969544918f12",
   "metadata": {},
   "outputs": [
    {
     "data": {
      "text/plain": [
       "'PROgraminG'"
      ]
     },
     "execution_count": 50,
     "metadata": {},
     "output_type": "execute_result"
    }
   ],
   "source": [
    "mystring.replace('pro','PRO')"
   ]
  },
  {
   "cell_type": "code",
   "execution_count": 51,
   "id": "42ea4079-a6b9-402e-aff3-7882e9ae62f3",
   "metadata": {},
   "outputs": [
    {
     "data": {
      "text/plain": [
       "'AUGCUAU'"
      ]
     },
     "execution_count": 51,
     "metadata": {},
     "output_type": "execute_result"
    }
   ],
   "source": [
    "DNA='ATGCTAT'\n",
    "DNA.replace('T','U')"
   ]
  },
  {
   "cell_type": "code",
   "execution_count": 53,
   "id": "0e3aae67-c60b-43f2-b181-de58f95350b4",
   "metadata": {},
   "outputs": [
    {
     "name": "stdout",
     "output_type": "stream",
     "text": [
      "AUGCUAU\n"
     ]
    }
   ],
   "source": [
    "RNA=DNA.replace('T','U')\n",
    "print(RNA)"
   ]
  },
  {
   "cell_type": "code",
   "execution_count": null,
   "id": "518c9a67-a20a-4fb2-89bb-e2e1329d94ba",
   "metadata": {},
   "outputs": [],
   "source": []
  },
  {
   "cell_type": "code",
   "execution_count": null,
   "id": "0dd810f0-3902-4bf5-878b-551c9ee209c7",
   "metadata": {},
   "outputs": [],
   "source": [
    "### COMBINE STRINGS/SEQUENCES"
   ]
  },
  {
   "cell_type": "code",
   "execution_count": null,
   "id": "e613972b-22d1-4050-924f-984f9aa800f2",
   "metadata": {},
   "outputs": [],
   "source": [
    "##Approach 1"
   ]
  },
  {
   "cell_type": "code",
   "execution_count": 54,
   "id": "e6122487-1161-406d-bb7c-55e74d73b9ca",
   "metadata": {},
   "outputs": [
    {
     "name": "stdout",
     "output_type": "stream",
     "text": [
      "AGTTTA\n"
     ]
    }
   ],
   "source": [
    "DNA1='AGT'\n",
    "DNA2='TTA'\n",
    "combined=DNA1+DNA2\n",
    "print(combined)"
   ]
  },
  {
   "cell_type": "code",
   "execution_count": 56,
   "id": "554d7f27-ac31-4600-b5b6-8b4749e32a3e",
   "metadata": {},
   "outputs": [
    {
     "name": "stdout",
     "output_type": "stream",
     "text": [
      "AGT TTA\n"
     ]
    }
   ],
   "source": [
    "combine=DNA1+' '+DNA2\n",
    "print(combine)"
   ]
  },
  {
   "cell_type": "code",
   "execution_count": null,
   "id": "885aca21-9be3-48c6-8b43-fcd83d315caf",
   "metadata": {},
   "outputs": [],
   "source": [
    "##Approach 2"
   ]
  },
  {
   "cell_type": "code",
   "execution_count": 58,
   "id": "40d5c997-0ead-4bed-bfdf-43a9f654e225",
   "metadata": {},
   "outputs": [
    {
     "name": "stdout",
     "output_type": "stream",
     "text": [
      "ATGCGCTA\n"
     ]
    }
   ],
   "source": [
    "DNA1='ATGC'\n",
    "DNA2='GCTA'\n",
    "combined=\"%s%s\"%(DNA1,DNA2)\n",
    "print(combined)"
   ]
  },
  {
   "cell_type": "code",
   "execution_count": 59,
   "id": "e33ba69e-2595-4fe6-8351-0ee497aa14ce",
   "metadata": {},
   "outputs": [
    {
     "name": "stdout",
     "output_type": "stream",
     "text": [
      "ATGC GCTA\n"
     ]
    }
   ],
   "source": [
    "DNA1='ATGC'\n",
    "DNA2='GCTA'\n",
    "combined=\"%s %s\"%(DNA1,DNA2)   ###leave a space between %s and %s \n",
    "print(combined)"
   ]
  },
  {
   "cell_type": "code",
   "execution_count": 60,
   "id": "c4b413de-a242-43bb-92a5-e750572a7439",
   "metadata": {},
   "outputs": [
    {
     "name": "stdout",
     "output_type": "stream",
     "text": [
      "Percentage of GC-content is 41.67\n"
     ]
    }
   ],
   "source": [
    "print('Percentage of GC-content is %0.2f'%percentage_gc)   ### XYZ %0.2f'%call_the_percentage"
   ]
  },
  {
   "cell_type": "code",
   "execution_count": null,
   "id": "0457a24a-5fa4-4b9f-a6c7-91ccf37ea961",
   "metadata": {},
   "outputs": [],
   "source": [
    "##Approach 3"
   ]
  },
  {
   "cell_type": "code",
   "execution_count": 64,
   "id": "1da97959-c53f-401f-ac89-d9cc5d49af2a",
   "metadata": {},
   "outputs": [
    {
     "name": "stdout",
     "output_type": "stream",
     "text": [
      "ATGCGCTA\n"
     ]
    }
   ],
   "source": [
    "DNA1='ATGC'\n",
    "DNA2='GCTA'\n",
    "combined='{}{}'. format(DNA1,DNA2)\n",
    "print(combined)"
   ]
  },
  {
   "cell_type": "code",
   "execution_count": null,
   "id": "a4487455-fb68-48b5-ab6a-428eb62bcb3a",
   "metadata": {},
   "outputs": [],
   "source": []
  },
  {
   "cell_type": "code",
   "execution_count": null,
   "id": "a4023928-f748-4ab8-89c9-4c1f27029c3d",
   "metadata": {},
   "outputs": [],
   "source": [
    "### INDEXING AND SLICING \n",
    "## accessing the sub-string/character by specific index or a range of indexes"
   ]
  },
  {
   "cell_type": "code",
   "execution_count": null,
   "id": "ec5954e0-71e6-471b-a301-b39b066edfa2",
   "metadata": {},
   "outputs": [],
   "source": [
    "##SYNTAX: S[m,n,s]\n",
    "# S: string/sequence\n",
    "# m: start\n",
    "# n: end\n",
    "# s: step/stride"
   ]
  },
  {
   "cell_type": "code",
   "execution_count": 66,
   "id": "06e50a40-12d4-48a9-9b75-36e7f939d570",
   "metadata": {},
   "outputs": [
    {
     "data": {
      "text/plain": [
       "'A'"
      ]
     },
     "execution_count": 66,
     "metadata": {},
     "output_type": "execute_result"
    }
   ],
   "source": [
    "DNA='AGAGTAGAAGA'\n",
    "DNA[2] ## INDEXING/ starting from 0, therefore at index 2 a will be the output\n",
    "## so its a 3rd positioned nucleotide "
   ]
  },
  {
   "cell_type": "code",
   "execution_count": 67,
   "id": "8cd081c8-83d8-42ff-aedb-7ee689174b1c",
   "metadata": {},
   "outputs": [
    {
     "data": {
      "text/plain": [
       "'AGTA'"
      ]
     },
     "execution_count": 67,
     "metadata": {},
     "output_type": "execute_result"
    }
   ],
   "source": [
    "DNA[2:6]  ### from 3rd position to 6th nucleotide "
   ]
  },
  {
   "cell_type": "code",
   "execution_count": 69,
   "id": "b463d13f-8ba0-4ee0-89c9-0e2ed795f762",
   "metadata": {},
   "outputs": [
    {
     "data": {
      "text/plain": [
       "'AGG'"
      ]
     },
     "execution_count": 69,
     "metadata": {},
     "output_type": "execute_result"
    }
   ],
   "source": [
    "DNA[0:9:3] ### starting with 0 index, use the string till 9th position, and every 3rd nucleotide."
   ]
  },
  {
   "cell_type": "code",
   "execution_count": null,
   "id": "4569010c-6302-4f5b-bca1-66ee6005229f",
   "metadata": {},
   "outputs": [],
   "source": [
    "### Negative Indexing"
   ]
  },
  {
   "cell_type": "code",
   "execution_count": 72,
   "id": "37bc2d97-59ce-4f7a-8103-3e72c4777fd7",
   "metadata": {},
   "outputs": [
    {
     "data": {
      "text/plain": [
       "'A'"
      ]
     },
     "execution_count": 72,
     "metadata": {},
     "output_type": "execute_result"
    }
   ],
   "source": [
    "DNA='AGAGTAGAAGA'\n",
    "DNA[-1]  ##last nucleotide"
   ]
  },
  {
   "cell_type": "code",
   "execution_count": 71,
   "id": "9cd1a207-2373-44fa-a594-0975c618c28e",
   "metadata": {},
   "outputs": [
    {
     "data": {
      "text/plain": [
       "'G'"
      ]
     },
     "execution_count": 71,
     "metadata": {},
     "output_type": "execute_result"
    }
   ],
   "source": [
    "DNA[-2]  ## last second nucleotide "
   ]
  },
  {
   "cell_type": "code",
   "execution_count": 74,
   "id": "50a05302-d9ba-4f9f-982e-f83182b8e7ec",
   "metadata": {},
   "outputs": [
    {
     "data": {
      "text/plain": [
       "'TAGAAG'"
      ]
     },
     "execution_count": 74,
     "metadata": {},
     "output_type": "execute_result"
    }
   ],
   "source": [
    "DNA[4:-1]"
   ]
  },
  {
   "cell_type": "code",
   "execution_count": 75,
   "id": "390eca4b-b173-4ed0-b8fa-5a01cc615b2c",
   "metadata": {},
   "outputs": [
    {
     "data": {
      "text/plain": [
       "'AAG'"
      ]
     },
     "execution_count": 75,
     "metadata": {},
     "output_type": "execute_result"
    }
   ],
   "source": [
    "DNA[-4:-1]"
   ]
  },
  {
   "cell_type": "code",
   "execution_count": null,
   "id": "93070bf3-cefb-4754-9b13-f5cadb559de2",
   "metadata": {},
   "outputs": [],
   "source": []
  },
  {
   "cell_type": "code",
   "execution_count": null,
   "id": "e8e68ee9-a831-4388-8cfd-e97e9b4f4075",
   "metadata": {},
   "outputs": [],
   "source": [
    "####### Short-hand indexing\n",
    "#####This is done by omitting either the first and or last index.\n",
    "##S[:n] starts the slice from the beginning of the sequence to the index just before n.\n",
    "##S[m:] starts slice from index m to the end of the sequence.\n",
    "##S[:] returns a copy of the entire string/sequence\n",
    "##S[::-1] returns reverse of the entire string/sequence"
   ]
  },
  {
   "cell_type": "code",
   "execution_count": 76,
   "id": "ab3535d4-e5b9-4feb-8596-a59d9782d693",
   "metadata": {},
   "outputs": [],
   "source": [
    "DNA='AGAGTAGAAGT'"
   ]
  },
  {
   "cell_type": "code",
   "execution_count": null,
   "id": "b724b550-2975-4221-814c-9516b62044ce",
   "metadata": {},
   "outputs": [],
   "source": [
    "## first point"
   ]
  },
  {
   "cell_type": "code",
   "execution_count": 77,
   "id": "40950bc7-c19a-4ab5-95d4-d3249eb82ff7",
   "metadata": {},
   "outputs": [
    {
     "data": {
      "text/plain": [
       "'AGAGT'"
      ]
     },
     "execution_count": 77,
     "metadata": {},
     "output_type": "execute_result"
    }
   ],
   "source": [
    "DNA[:5]"
   ]
  },
  {
   "cell_type": "code",
   "execution_count": 78,
   "id": "3151fb68-62c7-4161-a204-8d1003f30bc1",
   "metadata": {},
   "outputs": [
    {
     "data": {
      "text/plain": [
       "'AGAAGT'"
      ]
     },
     "execution_count": 78,
     "metadata": {},
     "output_type": "execute_result"
    }
   ],
   "source": [
    "DNA[5:]"
   ]
  },
  {
   "cell_type": "code",
   "execution_count": 79,
   "id": "fb0e6f37-4247-4d22-ba52-c9a75efb20e2",
   "metadata": {},
   "outputs": [
    {
     "data": {
      "text/plain": [
       "'AGAGTAGAAGT'"
      ]
     },
     "execution_count": 79,
     "metadata": {},
     "output_type": "execute_result"
    }
   ],
   "source": [
    "DNA[:]"
   ]
  },
  {
   "cell_type": "code",
   "execution_count": 80,
   "id": "07d4127f-a66f-4a03-926e-1ea7fccf002c",
   "metadata": {},
   "outputs": [
    {
     "data": {
      "text/plain": [
       "'TGAAGATGAGA'"
      ]
     },
     "execution_count": 80,
     "metadata": {},
     "output_type": "execute_result"
    }
   ],
   "source": [
    "DNA[::-1]   #### REVERSING THE SEQUENCE "
   ]
  },
  {
   "cell_type": "code",
   "execution_count": null,
   "id": "9ea81a65-035c-4317-880c-2b9f5b05a014",
   "metadata": {},
   "outputs": [],
   "source": []
  }
 ],
 "metadata": {
  "kernelspec": {
   "display_name": "anaconda-2024.02-py310",
   "language": "python",
   "name": "conda-env-anaconda-2024.02-py310-py"
  },
  "language_info": {
   "codemirror_mode": {
    "name": "ipython",
    "version": 3
   },
   "file_extension": ".py",
   "mimetype": "text/x-python",
   "name": "python",
   "nbconvert_exporter": "python",
   "pygments_lexer": "ipython3",
   "version": "3.10.14"
  }
 },
 "nbformat": 4,
 "nbformat_minor": 5
}
